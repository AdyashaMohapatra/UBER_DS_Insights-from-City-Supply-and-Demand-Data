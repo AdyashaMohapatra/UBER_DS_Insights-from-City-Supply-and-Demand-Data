{
 "cells": [
  {
   "cell_type": "markdown",
   "id": "b81633e0-9a81-45c5-b548-14c428861539",
   "metadata": {},
   "source": [
    "UBER : Data Science - Insights from City Supply and Demand Data"
   ]
  },
  {
   "cell_type": "markdown",
   "id": "e39e648d-ce30-40f2-880b-5af2d860318a",
   "metadata": {},
   "source": [
    "PART 1 : DATA EXPLORATION"
   ]
  },
  {
   "cell_type": "code",
   "execution_count": 54,
   "id": "736e4695-4812-4171-82bd-328c03612513",
   "metadata": {},
   "outputs": [],
   "source": [
    "import pandas as pd"
   ]
  },
  {
   "cell_type": "code",
   "execution_count": 56,
   "id": "0a6946fd-21b0-470a-99b6-24f7e1ae822a",
   "metadata": {},
   "outputs": [],
   "source": [
    "df= pd.read_csv('/Users/adyashamohapatra/Desktop/Data Science Projects/UBER_Ride_Demand.csv')"
   ]
  },
  {
   "cell_type": "code",
   "execution_count": 58,
   "id": "b7cb951c-ed6d-4c4d-b8df-45c8e54dd9ac",
   "metadata": {},
   "outputs": [
    {
     "data": {
      "text/html": [
       "<div>\n",
       "<style scoped>\n",
       "    .dataframe tbody tr th:only-of-type {\n",
       "        vertical-align: middle;\n",
       "    }\n",
       "\n",
       "    .dataframe tbody tr th {\n",
       "        vertical-align: top;\n",
       "    }\n",
       "\n",
       "    .dataframe thead th {\n",
       "        text-align: right;\n",
       "    }\n",
       "</style>\n",
       "<table border=\"1\" class=\"dataframe\">\n",
       "  <thead>\n",
       "    <tr style=\"text-align: right;\">\n",
       "      <th></th>\n",
       "      <th>Date</th>\n",
       "      <th>Time (Local)</th>\n",
       "      <th>Eyeballs</th>\n",
       "      <th>Zeroes</th>\n",
       "      <th>Completed Trips</th>\n",
       "      <th>Requests</th>\n",
       "      <th>Unique Drivers</th>\n",
       "    </tr>\n",
       "  </thead>\n",
       "  <tbody>\n",
       "    <tr>\n",
       "      <th>0</th>\n",
       "      <td>10-Sep-12</td>\n",
       "      <td>7</td>\n",
       "      <td>5</td>\n",
       "      <td>0</td>\n",
       "      <td>2</td>\n",
       "      <td>2</td>\n",
       "      <td>9</td>\n",
       "    </tr>\n",
       "    <tr>\n",
       "      <th>1</th>\n",
       "      <td>NaN</td>\n",
       "      <td>8</td>\n",
       "      <td>6</td>\n",
       "      <td>0</td>\n",
       "      <td>2</td>\n",
       "      <td>2</td>\n",
       "      <td>14</td>\n",
       "    </tr>\n",
       "    <tr>\n",
       "      <th>2</th>\n",
       "      <td>NaN</td>\n",
       "      <td>9</td>\n",
       "      <td>8</td>\n",
       "      <td>3</td>\n",
       "      <td>0</td>\n",
       "      <td>0</td>\n",
       "      <td>14</td>\n",
       "    </tr>\n",
       "    <tr>\n",
       "      <th>3</th>\n",
       "      <td>NaN</td>\n",
       "      <td>10</td>\n",
       "      <td>9</td>\n",
       "      <td>2</td>\n",
       "      <td>0</td>\n",
       "      <td>1</td>\n",
       "      <td>14</td>\n",
       "    </tr>\n",
       "    <tr>\n",
       "      <th>4</th>\n",
       "      <td>NaN</td>\n",
       "      <td>11</td>\n",
       "      <td>11</td>\n",
       "      <td>1</td>\n",
       "      <td>4</td>\n",
       "      <td>4</td>\n",
       "      <td>11</td>\n",
       "    </tr>\n",
       "  </tbody>\n",
       "</table>\n",
       "</div>"
      ],
      "text/plain": [
       "        Date  Time (Local)  Eyeballs   Zeroes   Completed Trips   Requests   \\\n",
       "0  10-Sep-12             7          5        0                 2          2   \n",
       "1        NaN             8          6        0                 2          2   \n",
       "2        NaN             9          8        3                 0          0   \n",
       "3        NaN            10          9        2                 0          1   \n",
       "4        NaN            11         11        1                 4          4   \n",
       "\n",
       "   Unique Drivers  \n",
       "0               9  \n",
       "1              14  \n",
       "2              14  \n",
       "3              14  \n",
       "4              11  "
      ]
     },
     "execution_count": 58,
     "metadata": {},
     "output_type": "execute_result"
    }
   ],
   "source": [
    "df.head()"
   ]
  },
  {
   "cell_type": "code",
   "execution_count": 60,
   "id": "2b1f2665-d52d-4a2e-81ae-50591bde1a68",
   "metadata": {},
   "outputs": [
    {
     "data": {
      "text/html": [
       "<div>\n",
       "<style scoped>\n",
       "    .dataframe tbody tr th:only-of-type {\n",
       "        vertical-align: middle;\n",
       "    }\n",
       "\n",
       "    .dataframe tbody tr th {\n",
       "        vertical-align: top;\n",
       "    }\n",
       "\n",
       "    .dataframe thead th {\n",
       "        text-align: right;\n",
       "    }\n",
       "</style>\n",
       "<table border=\"1\" class=\"dataframe\">\n",
       "  <thead>\n",
       "    <tr style=\"text-align: right;\">\n",
       "      <th></th>\n",
       "      <th>Time (Local)</th>\n",
       "      <th>Eyeballs</th>\n",
       "      <th>Zeroes</th>\n",
       "      <th>Completed Trips</th>\n",
       "      <th>Requests</th>\n",
       "      <th>Unique Drivers</th>\n",
       "    </tr>\n",
       "  </thead>\n",
       "  <tbody>\n",
       "    <tr>\n",
       "      <th>count</th>\n",
       "      <td>336.00000</td>\n",
       "      <td>336.000000</td>\n",
       "      <td>336.000000</td>\n",
       "      <td>336.000000</td>\n",
       "      <td>336.000000</td>\n",
       "      <td>336.000000</td>\n",
       "    </tr>\n",
       "    <tr>\n",
       "      <th>mean</th>\n",
       "      <td>11.50000</td>\n",
       "      <td>19.901786</td>\n",
       "      <td>4.252976</td>\n",
       "      <td>4.062500</td>\n",
       "      <td>5.529762</td>\n",
       "      <td>7.895833</td>\n",
       "    </tr>\n",
       "    <tr>\n",
       "      <th>std</th>\n",
       "      <td>6.93251</td>\n",
       "      <td>16.902862</td>\n",
       "      <td>5.795391</td>\n",
       "      <td>5.672581</td>\n",
       "      <td>7.399416</td>\n",
       "      <td>5.884296</td>\n",
       "    </tr>\n",
       "    <tr>\n",
       "      <th>min</th>\n",
       "      <td>0.00000</td>\n",
       "      <td>0.000000</td>\n",
       "      <td>0.000000</td>\n",
       "      <td>0.000000</td>\n",
       "      <td>0.000000</td>\n",
       "      <td>0.000000</td>\n",
       "    </tr>\n",
       "    <tr>\n",
       "      <th>25%</th>\n",
       "      <td>5.75000</td>\n",
       "      <td>9.000000</td>\n",
       "      <td>1.000000</td>\n",
       "      <td>0.000000</td>\n",
       "      <td>1.000000</td>\n",
       "      <td>3.000000</td>\n",
       "    </tr>\n",
       "    <tr>\n",
       "      <th>50%</th>\n",
       "      <td>11.50000</td>\n",
       "      <td>17.000000</td>\n",
       "      <td>3.000000</td>\n",
       "      <td>2.000000</td>\n",
       "      <td>3.000000</td>\n",
       "      <td>8.000000</td>\n",
       "    </tr>\n",
       "    <tr>\n",
       "      <th>75%</th>\n",
       "      <td>17.25000</td>\n",
       "      <td>25.000000</td>\n",
       "      <td>5.000000</td>\n",
       "      <td>5.000000</td>\n",
       "      <td>6.250000</td>\n",
       "      <td>11.000000</td>\n",
       "    </tr>\n",
       "    <tr>\n",
       "      <th>max</th>\n",
       "      <td>23.00000</td>\n",
       "      <td>99.000000</td>\n",
       "      <td>59.000000</td>\n",
       "      <td>36.000000</td>\n",
       "      <td>46.000000</td>\n",
       "      <td>30.000000</td>\n",
       "    </tr>\n",
       "  </tbody>\n",
       "</table>\n",
       "</div>"
      ],
      "text/plain": [
       "       Time (Local)   Eyeballs      Zeroes   Completed Trips    Requests   \\\n",
       "count     336.00000  336.000000  336.000000        336.000000  336.000000   \n",
       "mean       11.50000   19.901786    4.252976          4.062500    5.529762   \n",
       "std         6.93251   16.902862    5.795391          5.672581    7.399416   \n",
       "min         0.00000    0.000000    0.000000          0.000000    0.000000   \n",
       "25%         5.75000    9.000000    1.000000          0.000000    1.000000   \n",
       "50%        11.50000   17.000000    3.000000          2.000000    3.000000   \n",
       "75%        17.25000   25.000000    5.000000          5.000000    6.250000   \n",
       "max        23.00000   99.000000   59.000000         36.000000   46.000000   \n",
       "\n",
       "       Unique Drivers  \n",
       "count      336.000000  \n",
       "mean         7.895833  \n",
       "std          5.884296  \n",
       "min          0.000000  \n",
       "25%          3.000000  \n",
       "50%          8.000000  \n",
       "75%         11.000000  \n",
       "max         30.000000  "
      ]
     },
     "execution_count": 60,
     "metadata": {},
     "output_type": "execute_result"
    }
   ],
   "source": [
    "df.describe()"
   ]
  },
  {
   "cell_type": "code",
   "execution_count": 62,
   "id": "47e64046-e4fa-41b9-859d-ab937bbd45a6",
   "metadata": {},
   "outputs": [
    {
     "data": {
      "text/plain": [
       "(336, 7)"
      ]
     },
     "execution_count": 62,
     "metadata": {},
     "output_type": "execute_result"
    }
   ],
   "source": [
    "df.shape"
   ]
  },
  {
   "cell_type": "code",
   "execution_count": 64,
   "id": "a991b8cc-7266-49c7-bc4b-c5f01f3f839b",
   "metadata": {},
   "outputs": [
    {
     "data": {
      "text/plain": [
       "Index(['Date', 'Time (Local)', 'Eyeballs ', 'Zeroes ', 'Completed Trips ',\n",
       "       'Requests ', 'Unique Drivers'],\n",
       "      dtype='object')"
      ]
     },
     "execution_count": 64,
     "metadata": {},
     "output_type": "execute_result"
    }
   ],
   "source": [
    "df.columns"
   ]
  },
  {
   "cell_type": "code",
   "execution_count": 66,
   "id": "9e6787b8-9972-439b-b375-b2a9694d9ddd",
   "metadata": {},
   "outputs": [],
   "source": [
    "import numpy as np"
   ]
  },
  {
   "cell_type": "markdown",
   "id": "8132cea7-5bd1-4147-9f84-cac3e998e5f2",
   "metadata": {},
   "source": [
    "1 : Which date had the most completed trips during the two week period?"
   ]
  },
  {
   "cell_type": "code",
   "execution_count": 69,
   "id": "32d04969-4d2d-4146-8d8a-75d2e9b00395",
   "metadata": {},
   "outputs": [
    {
     "data": {
      "text/html": [
       "<div>\n",
       "<style scoped>\n",
       "    .dataframe tbody tr th:only-of-type {\n",
       "        vertical-align: middle;\n",
       "    }\n",
       "\n",
       "    .dataframe tbody tr th {\n",
       "        vertical-align: top;\n",
       "    }\n",
       "\n",
       "    .dataframe thead th {\n",
       "        text-align: right;\n",
       "    }\n",
       "</style>\n",
       "<table border=\"1\" class=\"dataframe\">\n",
       "  <thead>\n",
       "    <tr style=\"text-align: right;\">\n",
       "      <th></th>\n",
       "      <th>Date</th>\n",
       "      <th>Time (Local)</th>\n",
       "      <th>Eyeballs</th>\n",
       "      <th>Zeroes</th>\n",
       "      <th>Completed Trips</th>\n",
       "      <th>Requests</th>\n",
       "      <th>Unique Drivers</th>\n",
       "    </tr>\n",
       "  </thead>\n",
       "  <tbody>\n",
       "    <tr>\n",
       "      <th>0</th>\n",
       "      <td>10-Sep-12</td>\n",
       "      <td>7</td>\n",
       "      <td>5</td>\n",
       "      <td>0</td>\n",
       "      <td>2</td>\n",
       "      <td>2</td>\n",
       "      <td>9</td>\n",
       "    </tr>\n",
       "    <tr>\n",
       "      <th>1</th>\n",
       "      <td>10-Sep-12</td>\n",
       "      <td>8</td>\n",
       "      <td>6</td>\n",
       "      <td>0</td>\n",
       "      <td>2</td>\n",
       "      <td>2</td>\n",
       "      <td>14</td>\n",
       "    </tr>\n",
       "    <tr>\n",
       "      <th>2</th>\n",
       "      <td>10-Sep-12</td>\n",
       "      <td>9</td>\n",
       "      <td>8</td>\n",
       "      <td>3</td>\n",
       "      <td>0</td>\n",
       "      <td>0</td>\n",
       "      <td>14</td>\n",
       "    </tr>\n",
       "    <tr>\n",
       "      <th>3</th>\n",
       "      <td>10-Sep-12</td>\n",
       "      <td>10</td>\n",
       "      <td>9</td>\n",
       "      <td>2</td>\n",
       "      <td>0</td>\n",
       "      <td>1</td>\n",
       "      <td>14</td>\n",
       "    </tr>\n",
       "    <tr>\n",
       "      <th>4</th>\n",
       "      <td>10-Sep-12</td>\n",
       "      <td>11</td>\n",
       "      <td>11</td>\n",
       "      <td>1</td>\n",
       "      <td>4</td>\n",
       "      <td>4</td>\n",
       "      <td>11</td>\n",
       "    </tr>\n",
       "    <tr>\n",
       "      <th>...</th>\n",
       "      <td>...</td>\n",
       "      <td>...</td>\n",
       "      <td>...</td>\n",
       "      <td>...</td>\n",
       "      <td>...</td>\n",
       "      <td>...</td>\n",
       "      <td>...</td>\n",
       "    </tr>\n",
       "    <tr>\n",
       "      <th>331</th>\n",
       "      <td>24-Sep-12</td>\n",
       "      <td>2</td>\n",
       "      <td>3</td>\n",
       "      <td>3</td>\n",
       "      <td>0</td>\n",
       "      <td>2</td>\n",
       "      <td>0</td>\n",
       "    </tr>\n",
       "    <tr>\n",
       "      <th>332</th>\n",
       "      <td>24-Sep-12</td>\n",
       "      <td>3</td>\n",
       "      <td>3</td>\n",
       "      <td>3</td>\n",
       "      <td>0</td>\n",
       "      <td>1</td>\n",
       "      <td>0</td>\n",
       "    </tr>\n",
       "    <tr>\n",
       "      <th>333</th>\n",
       "      <td>24-Sep-12</td>\n",
       "      <td>4</td>\n",
       "      <td>1</td>\n",
       "      <td>1</td>\n",
       "      <td>0</td>\n",
       "      <td>0</td>\n",
       "      <td>0</td>\n",
       "    </tr>\n",
       "    <tr>\n",
       "      <th>334</th>\n",
       "      <td>24-Sep-12</td>\n",
       "      <td>5</td>\n",
       "      <td>4</td>\n",
       "      <td>2</td>\n",
       "      <td>1</td>\n",
       "      <td>1</td>\n",
       "      <td>3</td>\n",
       "    </tr>\n",
       "    <tr>\n",
       "      <th>335</th>\n",
       "      <td>24-Sep-12</td>\n",
       "      <td>6</td>\n",
       "      <td>9</td>\n",
       "      <td>1</td>\n",
       "      <td>2</td>\n",
       "      <td>2</td>\n",
       "      <td>7</td>\n",
       "    </tr>\n",
       "  </tbody>\n",
       "</table>\n",
       "<p>336 rows × 7 columns</p>\n",
       "</div>"
      ],
      "text/plain": [
       "          Date  Time (Local)  Eyeballs   Zeroes   Completed Trips   Requests   \\\n",
       "0    10-Sep-12             7          5        0                 2          2   \n",
       "1    10-Sep-12             8          6        0                 2          2   \n",
       "2    10-Sep-12             9          8        3                 0          0   \n",
       "3    10-Sep-12            10          9        2                 0          1   \n",
       "4    10-Sep-12            11         11        1                 4          4   \n",
       "..         ...           ...        ...      ...               ...        ...   \n",
       "331  24-Sep-12             2          3        3                 0          2   \n",
       "332  24-Sep-12             3          3        3                 0          1   \n",
       "333  24-Sep-12             4          1        1                 0          0   \n",
       "334  24-Sep-12             5          4        2                 1          1   \n",
       "335  24-Sep-12             6          9        1                 2          2   \n",
       "\n",
       "     Unique Drivers  \n",
       "0                 9  \n",
       "1                14  \n",
       "2                14  \n",
       "3                14  \n",
       "4                11  \n",
       "..              ...  \n",
       "331               0  \n",
       "332               0  \n",
       "333               0  \n",
       "334               3  \n",
       "335               7  \n",
       "\n",
       "[336 rows x 7 columns]"
      ]
     },
     "execution_count": 69,
     "metadata": {},
     "output_type": "execute_result"
    }
   ],
   "source": [
    "# forward fill empty Dates\n",
    "df = df.ffill()\n",
    "df"
   ]
  },
  {
   "cell_type": "code",
   "execution_count": 71,
   "id": "fb5411da-667a-4f1c-a074-d0b237411214",
   "metadata": {},
   "outputs": [],
   "source": [
    "# aggregate on Date since the question asks the completed trips by Date\n",
    "df_agg_date = df.groupby('Date').sum().reset_index()"
   ]
  },
  {
   "cell_type": "code",
   "execution_count": 73,
   "id": "ee7950f0-a924-4fb3-8cba-a20a517c9c88",
   "metadata": {},
   "outputs": [
    {
     "data": {
      "text/html": [
       "<div>\n",
       "<style scoped>\n",
       "    .dataframe tbody tr th:only-of-type {\n",
       "        vertical-align: middle;\n",
       "    }\n",
       "\n",
       "    .dataframe tbody tr th {\n",
       "        vertical-align: top;\n",
       "    }\n",
       "\n",
       "    .dataframe thead th {\n",
       "        text-align: right;\n",
       "    }\n",
       "</style>\n",
       "<table border=\"1\" class=\"dataframe\">\n",
       "  <thead>\n",
       "    <tr style=\"text-align: right;\">\n",
       "      <th></th>\n",
       "      <th>Date</th>\n",
       "      <th>Time (Local)</th>\n",
       "      <th>Eyeballs</th>\n",
       "      <th>Zeroes</th>\n",
       "      <th>Completed Trips</th>\n",
       "      <th>Requests</th>\n",
       "      <th>Unique Drivers</th>\n",
       "    </tr>\n",
       "  </thead>\n",
       "  <tbody>\n",
       "    <tr>\n",
       "      <th>12</th>\n",
       "      <td>22-Sep-12</td>\n",
       "      <td>276</td>\n",
       "      <td>960</td>\n",
       "      <td>219</td>\n",
       "      <td>248</td>\n",
       "      <td>344</td>\n",
       "      <td>292</td>\n",
       "    </tr>\n",
       "  </tbody>\n",
       "</table>\n",
       "</div>"
      ],
      "text/plain": [
       "         Date  Time (Local)  Eyeballs   Zeroes   Completed Trips   Requests   \\\n",
       "12  22-Sep-12           276        960      219               248        344   \n",
       "\n",
       "    Unique Drivers  \n",
       "12             292  "
      ]
     },
     "execution_count": 73,
     "metadata": {},
     "output_type": "execute_result"
    }
   ],
   "source": [
    "df_agg_date.nlargest(1, 'Completed Trips ')"
   ]
  },
  {
   "cell_type": "code",
   "execution_count": 75,
   "id": "5a9e9aa1-b95f-4b75-a626-c94a2f125bd6",
   "metadata": {},
   "outputs": [
    {
     "data": {
      "text/plain": [
       "12    22-Sep-12\n",
       "Name: Date, dtype: object"
      ]
     },
     "execution_count": 75,
     "metadata": {},
     "output_type": "execute_result"
    }
   ],
   "source": [
    "df_agg_date.nlargest(1, 'Completed Trips ')['Date']"
   ]
  },
  {
   "cell_type": "markdown",
   "id": "0a59533e-4bc2-4a14-8e83-b3075f54f53e",
   "metadata": {},
   "source": [
    "2: What was the highest number of completed trips within a 24 hour period?"
   ]
  },
  {
   "cell_type": "code",
   "execution_count": 80,
   "id": "eb5cfbcf-c3c0-4f48-80b3-c30661a36e0b",
   "metadata": {},
   "outputs": [],
   "source": [
    "daily_completed_trips = df.groupby('Date').sum().reset_index()"
   ]
  },
  {
   "cell_type": "code",
   "execution_count": 82,
   "id": "1e630f7f-8b40-4617-a20b-f9e5ed48d899",
   "metadata": {},
   "outputs": [
    {
     "data": {
      "text/html": [
       "<div>\n",
       "<style scoped>\n",
       "    .dataframe tbody tr th:only-of-type {\n",
       "        vertical-align: middle;\n",
       "    }\n",
       "\n",
       "    .dataframe tbody tr th {\n",
       "        vertical-align: top;\n",
       "    }\n",
       "\n",
       "    .dataframe thead th {\n",
       "        text-align: right;\n",
       "    }\n",
       "</style>\n",
       "<table border=\"1\" class=\"dataframe\">\n",
       "  <thead>\n",
       "    <tr style=\"text-align: right;\">\n",
       "      <th></th>\n",
       "      <th>Date</th>\n",
       "      <th>Time (Local)</th>\n",
       "      <th>Eyeballs</th>\n",
       "      <th>Zeroes</th>\n",
       "      <th>Completed Trips</th>\n",
       "      <th>Requests</th>\n",
       "      <th>Unique Drivers</th>\n",
       "    </tr>\n",
       "  </thead>\n",
       "  <tbody>\n",
       "    <tr>\n",
       "      <th>12</th>\n",
       "      <td>22-Sep-12</td>\n",
       "      <td>276</td>\n",
       "      <td>960</td>\n",
       "      <td>219</td>\n",
       "      <td>248</td>\n",
       "      <td>344</td>\n",
       "      <td>292</td>\n",
       "    </tr>\n",
       "  </tbody>\n",
       "</table>\n",
       "</div>"
      ],
      "text/plain": [
       "         Date  Time (Local)  Eyeballs   Zeroes   Completed Trips   Requests   \\\n",
       "12  22-Sep-12           276        960      219               248        344   \n",
       "\n",
       "    Unique Drivers  \n",
       "12             292  "
      ]
     },
     "execution_count": 82,
     "metadata": {},
     "output_type": "execute_result"
    }
   ],
   "source": [
    "daily_completed_trips.nlargest(1, 'Completed Trips ')"
   ]
  },
  {
   "cell_type": "code",
   "execution_count": 84,
   "id": "e67726a2-9a83-4d17-8ae0-671eafac0c45",
   "metadata": {},
   "outputs": [
    {
     "data": {
      "text/plain": [
       "12    248\n",
       "Name: Completed Trips , dtype: int64"
      ]
     },
     "execution_count": 84,
     "metadata": {},
     "output_type": "execute_result"
    }
   ],
   "source": [
    "df_agg_date.nlargest(1, 'Completed Trips ')['Completed Trips ']"
   ]
  },
  {
   "cell_type": "markdown",
   "id": "9c92d365-a8e1-426c-8b73-fffa0abb4856",
   "metadata": {},
   "source": [
    "3 : Which hour of the day had the most requests during the two week period?"
   ]
  },
  {
   "cell_type": "code",
   "execution_count": 87,
   "id": "e363fd69-e430-4dd3-8f4c-cc9fe33a37fa",
   "metadata": {},
   "outputs": [
    {
     "data": {
      "text/html": [
       "<div>\n",
       "<style scoped>\n",
       "    .dataframe tbody tr th:only-of-type {\n",
       "        vertical-align: middle;\n",
       "    }\n",
       "\n",
       "    .dataframe tbody tr th {\n",
       "        vertical-align: top;\n",
       "    }\n",
       "\n",
       "    .dataframe thead th {\n",
       "        text-align: right;\n",
       "    }\n",
       "</style>\n",
       "<table border=\"1\" class=\"dataframe\">\n",
       "  <thead>\n",
       "    <tr style=\"text-align: right;\">\n",
       "      <th></th>\n",
       "      <th>Time (Local)</th>\n",
       "      <th>Date</th>\n",
       "      <th>Eyeballs</th>\n",
       "      <th>Zeroes</th>\n",
       "      <th>Completed Trips</th>\n",
       "      <th>Requests</th>\n",
       "      <th>Unique Drivers</th>\n",
       "    </tr>\n",
       "  </thead>\n",
       "  <tbody>\n",
       "    <tr>\n",
       "      <th>23</th>\n",
       "      <td>23</td>\n",
       "      <td>10-Sep-1211-Sep-1212-Sep-1213-Sep-1214-Sep-121...</td>\n",
       "      <td>488</td>\n",
       "      <td>193</td>\n",
       "      <td>126</td>\n",
       "      <td>184</td>\n",
       "      <td>119</td>\n",
       "    </tr>\n",
       "  </tbody>\n",
       "</table>\n",
       "</div>"
      ],
      "text/plain": [
       "    Time (Local)                                               Date  \\\n",
       "23            23  10-Sep-1211-Sep-1212-Sep-1213-Sep-1214-Sep-121...   \n",
       "\n",
       "    Eyeballs   Zeroes   Completed Trips   Requests   Unique Drivers  \n",
       "23        488      193               126        184             119  "
      ]
     },
     "execution_count": 87,
     "metadata": {},
     "output_type": "execute_result"
    }
   ],
   "source": [
    "# aggregate on hour\n",
    "df_agg_time = df.groupby('Time (Local)').sum().reset_index()\n",
    "df_agg_time.nlargest(1, 'Requests ')"
   ]
  },
  {
   "cell_type": "code",
   "execution_count": 89,
   "id": "c1c0d165-48cd-4c03-800f-e655c5fd83dd",
   "metadata": {},
   "outputs": [
    {
     "data": {
      "text/plain": [
       "23    23\n",
       "Name: Time (Local), dtype: int64"
      ]
     },
     "execution_count": 89,
     "metadata": {},
     "output_type": "execute_result"
    }
   ],
   "source": [
    "df_agg_time.nlargest(1, 'Requests ')['Time (Local)']"
   ]
  },
  {
   "cell_type": "markdown",
   "id": "9b9287ea-11b3-4428-9d6e-773c0d61b754",
   "metadata": {},
   "source": [
    "4 : What percentages of all zeroes during the two week period occurred on weekend (Friday at 5 pm to Sunday at 3 am)?\n",
    "\n",
    "Tip: The local time value is the start of the hour (e.g. 15 is the hour from 3:00pm - 4:00pm)"
   ]
  },
  {
   "cell_type": "code",
   "execution_count": 92,
   "id": "b36d33ef-e0c1-400a-8f89-06ff166bc60e",
   "metadata": {},
   "outputs": [
    {
     "data": {
      "text/plain": [
       "1429"
      ]
     },
     "execution_count": 92,
     "metadata": {},
     "output_type": "execute_result"
    }
   ],
   "source": [
    "# all zeroes in the dataset\n",
    "total_zeroes = df['Zeroes '].sum()\n",
    "total_zeroes"
   ]
  },
  {
   "cell_type": "code",
   "execution_count": 94,
   "id": "d7af015d-32f0-452e-9939-165a7b88af07",
   "metadata": {},
   "outputs": [
    {
     "name": "stderr",
     "output_type": "stream",
     "text": [
      "/var/folders/vt/txkkqyqd0sd4mndt_bc961yw0000gn/T/ipykernel_13683/1450385096.py:2: UserWarning: Could not infer format, so each element will be parsed individually, falling back to `dateutil`. To ensure parsing is consistent and as-expected, please specify a format.\n",
      "  df['Day'] = pd.to_datetime(df['Date']).dt.dayofweek\n"
     ]
    },
    {
     "data": {
      "text/plain": [
       "641"
      ]
     },
     "execution_count": 94,
     "metadata": {},
     "output_type": "execute_result"
    }
   ],
   "source": [
    "# all zeroes in weekend based on given condition\n",
    "df['Day'] = pd.to_datetime(df['Date']).dt.dayofweek\n",
    "weekend_zeroes = df[((df['Day'] == 4) & (df['Time (Local)'] >= 17)) \n",
    "                          | (df['Day'] == 5) |\n",
    "                          ((df['Day'] == 6) & (df['Time (Local)'] < 3))]['Zeroes '].sum()\n",
    "weekend_zeroes"
   ]
  },
  {
   "cell_type": "code",
   "execution_count": 96,
   "id": "09fc2d37-9fcd-4ce9-836f-17bc4eab77f1",
   "metadata": {},
   "outputs": [
    {
     "name": "stdout",
     "output_type": "stream",
     "text": [
      "44.856543037088876 %\n"
     ]
    }
   ],
   "source": [
    "# calculate the percentage\n",
    "weekend_zeroes_pct = weekend_zeroes / total_zeroes * 100\n",
    "print(weekend_zeroes_pct,'%')"
   ]
  },
  {
   "cell_type": "markdown",
   "id": "6bf6a9f8-8ed8-46af-8803-76db9eff0d29",
   "metadata": {},
   "source": [
    "5 : What is the weighted average ratio of completed trips per driver during the two week period?"
   ]
  },
  {
   "cell_type": "code",
   "execution_count": 99,
   "id": "cb205d3a-4a9f-4ca0-ace7-95644ec764e4",
   "metadata": {},
   "outputs": [
    {
     "data": {
      "text/html": [
       "<div>\n",
       "<style scoped>\n",
       "    .dataframe tbody tr th:only-of-type {\n",
       "        vertical-align: middle;\n",
       "    }\n",
       "\n",
       "    .dataframe tbody tr th {\n",
       "        vertical-align: top;\n",
       "    }\n",
       "\n",
       "    .dataframe thead th {\n",
       "        text-align: right;\n",
       "    }\n",
       "</style>\n",
       "<table border=\"1\" class=\"dataframe\">\n",
       "  <thead>\n",
       "    <tr style=\"text-align: right;\">\n",
       "      <th></th>\n",
       "      <th>Date</th>\n",
       "      <th>Time (Local)</th>\n",
       "      <th>Eyeballs</th>\n",
       "      <th>Zeroes</th>\n",
       "      <th>Completed Trips</th>\n",
       "      <th>Requests</th>\n",
       "      <th>Unique Drivers</th>\n",
       "      <th>Day</th>\n",
       "      <th>completed_trip_ratio_per_driver</th>\n",
       "    </tr>\n",
       "  </thead>\n",
       "  <tbody>\n",
       "    <tr>\n",
       "      <th>0</th>\n",
       "      <td>10-Sep-12</td>\n",
       "      <td>7</td>\n",
       "      <td>5</td>\n",
       "      <td>0</td>\n",
       "      <td>2</td>\n",
       "      <td>2</td>\n",
       "      <td>9</td>\n",
       "      <td>0</td>\n",
       "      <td>0.222222</td>\n",
       "    </tr>\n",
       "    <tr>\n",
       "      <th>1</th>\n",
       "      <td>10-Sep-12</td>\n",
       "      <td>8</td>\n",
       "      <td>6</td>\n",
       "      <td>0</td>\n",
       "      <td>2</td>\n",
       "      <td>2</td>\n",
       "      <td>14</td>\n",
       "      <td>0</td>\n",
       "      <td>0.142857</td>\n",
       "    </tr>\n",
       "    <tr>\n",
       "      <th>2</th>\n",
       "      <td>10-Sep-12</td>\n",
       "      <td>9</td>\n",
       "      <td>8</td>\n",
       "      <td>3</td>\n",
       "      <td>0</td>\n",
       "      <td>0</td>\n",
       "      <td>14</td>\n",
       "      <td>0</td>\n",
       "      <td>0.000000</td>\n",
       "    </tr>\n",
       "    <tr>\n",
       "      <th>3</th>\n",
       "      <td>10-Sep-12</td>\n",
       "      <td>10</td>\n",
       "      <td>9</td>\n",
       "      <td>2</td>\n",
       "      <td>0</td>\n",
       "      <td>1</td>\n",
       "      <td>14</td>\n",
       "      <td>0</td>\n",
       "      <td>0.000000</td>\n",
       "    </tr>\n",
       "    <tr>\n",
       "      <th>4</th>\n",
       "      <td>10-Sep-12</td>\n",
       "      <td>11</td>\n",
       "      <td>11</td>\n",
       "      <td>1</td>\n",
       "      <td>4</td>\n",
       "      <td>4</td>\n",
       "      <td>11</td>\n",
       "      <td>0</td>\n",
       "      <td>0.363636</td>\n",
       "    </tr>\n",
       "    <tr>\n",
       "      <th>...</th>\n",
       "      <td>...</td>\n",
       "      <td>...</td>\n",
       "      <td>...</td>\n",
       "      <td>...</td>\n",
       "      <td>...</td>\n",
       "      <td>...</td>\n",
       "      <td>...</td>\n",
       "      <td>...</td>\n",
       "      <td>...</td>\n",
       "    </tr>\n",
       "    <tr>\n",
       "      <th>331</th>\n",
       "      <td>24-Sep-12</td>\n",
       "      <td>2</td>\n",
       "      <td>3</td>\n",
       "      <td>3</td>\n",
       "      <td>0</td>\n",
       "      <td>2</td>\n",
       "      <td>0</td>\n",
       "      <td>0</td>\n",
       "      <td>NaN</td>\n",
       "    </tr>\n",
       "    <tr>\n",
       "      <th>332</th>\n",
       "      <td>24-Sep-12</td>\n",
       "      <td>3</td>\n",
       "      <td>3</td>\n",
       "      <td>3</td>\n",
       "      <td>0</td>\n",
       "      <td>1</td>\n",
       "      <td>0</td>\n",
       "      <td>0</td>\n",
       "      <td>NaN</td>\n",
       "    </tr>\n",
       "    <tr>\n",
       "      <th>333</th>\n",
       "      <td>24-Sep-12</td>\n",
       "      <td>4</td>\n",
       "      <td>1</td>\n",
       "      <td>1</td>\n",
       "      <td>0</td>\n",
       "      <td>0</td>\n",
       "      <td>0</td>\n",
       "      <td>0</td>\n",
       "      <td>NaN</td>\n",
       "    </tr>\n",
       "    <tr>\n",
       "      <th>334</th>\n",
       "      <td>24-Sep-12</td>\n",
       "      <td>5</td>\n",
       "      <td>4</td>\n",
       "      <td>2</td>\n",
       "      <td>1</td>\n",
       "      <td>1</td>\n",
       "      <td>3</td>\n",
       "      <td>0</td>\n",
       "      <td>0.333333</td>\n",
       "    </tr>\n",
       "    <tr>\n",
       "      <th>335</th>\n",
       "      <td>24-Sep-12</td>\n",
       "      <td>6</td>\n",
       "      <td>9</td>\n",
       "      <td>1</td>\n",
       "      <td>2</td>\n",
       "      <td>2</td>\n",
       "      <td>7</td>\n",
       "      <td>0</td>\n",
       "      <td>0.285714</td>\n",
       "    </tr>\n",
       "  </tbody>\n",
       "</table>\n",
       "<p>336 rows × 9 columns</p>\n",
       "</div>"
      ],
      "text/plain": [
       "          Date  Time (Local)  Eyeballs   Zeroes   Completed Trips   Requests   \\\n",
       "0    10-Sep-12             7          5        0                 2          2   \n",
       "1    10-Sep-12             8          6        0                 2          2   \n",
       "2    10-Sep-12             9          8        3                 0          0   \n",
       "3    10-Sep-12            10          9        2                 0          1   \n",
       "4    10-Sep-12            11         11        1                 4          4   \n",
       "..         ...           ...        ...      ...               ...        ...   \n",
       "331  24-Sep-12             2          3        3                 0          2   \n",
       "332  24-Sep-12             3          3        3                 0          1   \n",
       "333  24-Sep-12             4          1        1                 0          0   \n",
       "334  24-Sep-12             5          4        2                 1          1   \n",
       "335  24-Sep-12             6          9        1                 2          2   \n",
       "\n",
       "     Unique Drivers  Day  completed_trip_ratio_per_driver  \n",
       "0                 9    0                         0.222222  \n",
       "1                14    0                         0.142857  \n",
       "2                14    0                         0.000000  \n",
       "3                14    0                         0.000000  \n",
       "4                11    0                         0.363636  \n",
       "..              ...  ...                              ...  \n",
       "331               0    0                              NaN  \n",
       "332               0    0                              NaN  \n",
       "333               0    0                              NaN  \n",
       "334               3    0                         0.333333  \n",
       "335               7    0                         0.285714  \n",
       "\n",
       "[336 rows x 9 columns]"
      ]
     },
     "execution_count": 99,
     "metadata": {},
     "output_type": "execute_result"
    }
   ],
   "source": [
    "# calculate the ratio\n",
    "df['completed_trip_ratio_per_driver'] = df['Completed Trips '] / df['Unique Drivers']\n",
    "df"
   ]
  },
  {
   "cell_type": "code",
   "execution_count": 101,
   "id": "cdf5fba2-cb12-4e40-8d5b-ae9823a014b5",
   "metadata": {},
   "outputs": [
    {
     "data": {
      "text/plain": [
       "0.8282775715092395"
      ]
     },
     "execution_count": 101,
     "metadata": {},
     "output_type": "execute_result"
    }
   ],
   "source": [
    "# drop rows with nan \n",
    "dataset_without_zero_unique_driver = df[df['Unique Drivers'] > 0]\n",
    "# calculate weighted average by giving weight as day's completed trip ratio all completed trips\n",
    "weighted_average_ratio = np.average(dataset_without_zero_unique_driver['completed_trip_ratio_per_driver'], weights=dataset_without_zero_unique_driver['Completed Trips '])\n",
    "weighted_average_ratio"
   ]
  },
  {
   "cell_type": "code",
   "execution_count": 103,
   "id": "525f1c70-416c-4d2b-9e88-9d65d3152adc",
   "metadata": {},
   "outputs": [
    {
     "data": {
      "text/plain": [
       "0.4743397876937869"
      ]
     },
     "execution_count": 103,
     "metadata": {},
     "output_type": "execute_result"
    }
   ],
   "source": [
    "# check it is not same with normal average\n",
    "np.average(dataset_without_zero_unique_driver['completed_trip_ratio_per_driver'])"
   ]
  },
  {
   "cell_type": "markdown",
   "id": "6add440f-8e90-474c-8302-1e9ce206df71",
   "metadata": {},
   "source": [
    "6: In drafting a driver schedule in terms of 8 hours shifts, when are the busiest 8 consecutive hours over the two week period in terms of unique requests? A new shift starts in every 8 hours. Assume that a driver will work same shift each day."
   ]
  },
  {
   "cell_type": "code",
   "execution_count": 116,
   "id": "0bef837a-601c-437d-bda4-6766f55b8c0b",
   "metadata": {},
   "outputs": [
    {
     "name": "stdout",
     "output_type": "stream",
     "text": [
      "Hour with most total requests: 23:00\n"
     ]
    }
   ],
   "source": [
    "# Group by hour only and sum requests across all days\n",
    "requests_by_hour = df.groupby(df['Time (Local)'])['Requests '].sum()\n",
    "\n",
    "# Get the peak request hour\n",
    "max_request_hour = requests_by_hour.idxmax()\n",
    "\n",
    "print(f\"Hour with most total requests: {max_request_hour}:00\")\n"
   ]
  },
  {
   "cell_type": "markdown",
   "id": "beb58327-3a81-4cbd-b885-eff0d06632ea",
   "metadata": {},
   "source": [
    "7 : True or False: Driver supply always increases when demand increases during the two week period."
   ]
  },
  {
   "cell_type": "code",
   "execution_count": 119,
   "id": "e5551b3b-0711-4a6a-91d3-5ab637a75b2c",
   "metadata": {},
   "outputs": [
    {
     "data": {
      "text/html": [
       "<div>\n",
       "<style scoped>\n",
       "    .dataframe tbody tr th:only-of-type {\n",
       "        vertical-align: middle;\n",
       "    }\n",
       "\n",
       "    .dataframe tbody tr th {\n",
       "        vertical-align: top;\n",
       "    }\n",
       "\n",
       "    .dataframe thead th {\n",
       "        text-align: right;\n",
       "    }\n",
       "</style>\n",
       "<table border=\"1\" class=\"dataframe\">\n",
       "  <thead>\n",
       "    <tr style=\"text-align: right;\">\n",
       "      <th></th>\n",
       "      <th>Time (Local)</th>\n",
       "      <th>request_diff</th>\n",
       "      <th>supply_diff</th>\n",
       "    </tr>\n",
       "  </thead>\n",
       "  <tbody>\n",
       "    <tr>\n",
       "      <th>0</th>\n",
       "      <td>7</td>\n",
       "      <td>0.0</td>\n",
       "      <td>5.0</td>\n",
       "    </tr>\n",
       "    <tr>\n",
       "      <th>1</th>\n",
       "      <td>8</td>\n",
       "      <td>-2.0</td>\n",
       "      <td>0.0</td>\n",
       "    </tr>\n",
       "    <tr>\n",
       "      <th>2</th>\n",
       "      <td>9</td>\n",
       "      <td>1.0</td>\n",
       "      <td>0.0</td>\n",
       "    </tr>\n",
       "    <tr>\n",
       "      <th>3</th>\n",
       "      <td>10</td>\n",
       "      <td>3.0</td>\n",
       "      <td>-3.0</td>\n",
       "    </tr>\n",
       "    <tr>\n",
       "      <th>4</th>\n",
       "      <td>11</td>\n",
       "      <td>-2.0</td>\n",
       "      <td>0.0</td>\n",
       "    </tr>\n",
       "    <tr>\n",
       "      <th>...</th>\n",
       "      <td>...</td>\n",
       "      <td>...</td>\n",
       "      <td>...</td>\n",
       "    </tr>\n",
       "    <tr>\n",
       "      <th>331</th>\n",
       "      <td>2</td>\n",
       "      <td>-1.0</td>\n",
       "      <td>0.0</td>\n",
       "    </tr>\n",
       "    <tr>\n",
       "      <th>332</th>\n",
       "      <td>3</td>\n",
       "      <td>-1.0</td>\n",
       "      <td>0.0</td>\n",
       "    </tr>\n",
       "    <tr>\n",
       "      <th>333</th>\n",
       "      <td>4</td>\n",
       "      <td>1.0</td>\n",
       "      <td>3.0</td>\n",
       "    </tr>\n",
       "    <tr>\n",
       "      <th>334</th>\n",
       "      <td>5</td>\n",
       "      <td>1.0</td>\n",
       "      <td>4.0</td>\n",
       "    </tr>\n",
       "    <tr>\n",
       "      <th>335</th>\n",
       "      <td>6</td>\n",
       "      <td>NaN</td>\n",
       "      <td>NaN</td>\n",
       "    </tr>\n",
       "  </tbody>\n",
       "</table>\n",
       "<p>336 rows × 3 columns</p>\n",
       "</div>"
      ],
      "text/plain": [
       "     Time (Local)  request_diff  supply_diff\n",
       "0               7           0.0          5.0\n",
       "1               8          -2.0          0.0\n",
       "2               9           1.0          0.0\n",
       "3              10           3.0         -3.0\n",
       "4              11          -2.0          0.0\n",
       "..            ...           ...          ...\n",
       "331             2          -1.0          0.0\n",
       "332             3          -1.0          0.0\n",
       "333             4           1.0          3.0\n",
       "334             5           1.0          4.0\n",
       "335             6           NaN          NaN\n",
       "\n",
       "[336 rows x 3 columns]"
      ]
     },
     "execution_count": 119,
     "metadata": {},
     "output_type": "execute_result"
    }
   ],
   "source": [
    "# create empty dataframe with only timestamps\n",
    "difference_df = pd.DataFrame(df['Time (Local)'])\n",
    "# calculate request differences to catch request increases\n",
    "difference_df['request_diff'] = df['Requests '].shift(-1) - df['Requests ']\n",
    "# do same of supply side\n",
    "difference_df['supply_diff'] = df['Unique Drivers'].shift(-1) - df['Unique Drivers']\n",
    "difference_df"
   ]
  },
  {
   "cell_type": "code",
   "execution_count": 121,
   "id": "a90a9295-52bb-4c68-8e6f-82855d873af0",
   "metadata": {},
   "outputs": [
    {
     "data": {
      "text/plain": [
       "False"
      ]
     },
     "execution_count": 121,
     "metadata": {},
     "output_type": "execute_result"
    }
   ],
   "source": [
    "# check if request increases, supply also increases \n",
    "(difference_df[difference_df['request_diff'] > 0]['supply_diff'] > 0).all().item()"
   ]
  },
  {
   "cell_type": "code",
   "execution_count": 123,
   "id": "c1ffa381-57a1-4b93-b762-65b8049103f6",
   "metadata": {},
   "outputs": [
    {
     "name": "stderr",
     "output_type": "stream",
     "text": [
      "Matplotlib is building the font cache; this may take a moment.\n"
     ]
    },
    {
     "data": {
      "image/png": "[encoded data removed]",
      "text/plain": [
       "<Figure size 1200x800 with 1 Axes>"
      ]
     },
     "metadata": {},
     "output_type": "display_data"
    }
   ],
   "source": [
    "import seaborn as sns\n",
    "import matplotlib.pyplot as plt\n",
    "\n",
    "plt.figure(figsize=(12,8))\n",
    "sns.lineplot(data=df[['Requests ', 'Unique Drivers', 'Time (Local)']])\n",
    "plt.show()"
   ]
  },
  {
   "cell_type": "markdown",
   "id": "5ab9a3bc-45f0-4dc4-b541-d9c5ef4c418d",
   "metadata": {},
   "source": [
    "9 : If you could add 5 drivers to any single hour of every day during the two week period, which hour should you add them to?"
   ]
  },
  {
   "cell_type": "code",
   "execution_count": 131,
   "id": "64fbc267-c4a0-49b9-9f8f-d875657a41bd",
   "metadata": {},
   "outputs": [
    {
     "data": {
      "text/html": [
       "<div>\n",
       "<style scoped>\n",
       "    .dataframe tbody tr th:only-of-type {\n",
       "        vertical-align: middle;\n",
       "    }\n",
       "\n",
       "    .dataframe tbody tr th {\n",
       "        vertical-align: top;\n",
       "    }\n",
       "\n",
       "    .dataframe thead th {\n",
       "        text-align: right;\n",
       "    }\n",
       "</style>\n",
       "<table border=\"1\" class=\"dataframe\">\n",
       "  <thead>\n",
       "    <tr style=\"text-align: right;\">\n",
       "      <th></th>\n",
       "      <th>Time (Local)</th>\n",
       "      <th>Date</th>\n",
       "      <th>Eyeballs</th>\n",
       "      <th>Zeroes</th>\n",
       "      <th>Completed Trips</th>\n",
       "      <th>Requests</th>\n",
       "      <th>Unique Drivers</th>\n",
       "      <th>Day</th>\n",
       "      <th>completed_trip_ratio_per_driver</th>\n",
       "      <th>eyeball_to_driver_ratio</th>\n",
       "    </tr>\n",
       "  </thead>\n",
       "  <tbody>\n",
       "    <tr>\n",
       "      <th>23</th>\n",
       "      <td>23</td>\n",
       "      <td>10-Sep-1211-Sep-1212-Sep-1213-Sep-1214-Sep-121...</td>\n",
       "      <td>488</td>\n",
       "      <td>193</td>\n",
       "      <td>126</td>\n",
       "      <td>184</td>\n",
       "      <td>119</td>\n",
       "      <td>42</td>\n",
       "      <td>11.269306</td>\n",
       "      <td>4.10084</td>\n",
       "    </tr>\n",
       "  </tbody>\n",
       "</table>\n",
       "</div>"
      ],
      "text/plain": [
       "    Time (Local)                                               Date  \\\n",
       "23            23  10-Sep-1211-Sep-1212-Sep-1213-Sep-1214-Sep-121...   \n",
       "\n",
       "    Eyeballs   Zeroes   Completed Trips   Requests   Unique Drivers  Day  \\\n",
       "23        488      193               126        184             119   42   \n",
       "\n",
       "    completed_trip_ratio_per_driver  eyeball_to_driver_ratio  \n",
       "23                        11.269306                  4.10084  "
      ]
     },
     "execution_count": 131,
     "metadata": {},
     "output_type": "execute_result"
    }
   ],
   "source": [
    "df_agg_time = df.groupby('Time (Local)').sum().reset_index()\n",
    "df_agg_time['eyeball_to_driver_ratio'] = df_agg_time['Eyeballs '] / df_agg_time['Unique Drivers'] \n",
    "df_agg_time.nlargest(1, 'eyeball_to_driver_ratio')"
   ]
  },
  {
   "cell_type": "code",
   "execution_count": 133,
   "id": "4902a6d3-1d18-45d9-b5fc-9e2d8783499d",
   "metadata": {},
   "outputs": [
    {
     "data": {
      "text/plain": [
       "23    23\n",
       "Name: Time (Local), dtype: int64"
      ]
     },
     "execution_count": 133,
     "metadata": {},
     "output_type": "execute_result"
    }
   ],
   "source": [
    "df_agg_time.nlargest(1, 'eyeball_to_driver_ratio')['Time (Local)']"
   ]
  },
  {
   "cell_type": "markdown",
   "id": "995e369a-3f7e-4683-92c1-a7ed4961aadd",
   "metadata": {},
   "source": [
    "11: Looking at the data from all two weeks, which time might make the most sense to consider a true \"end day\" instead of midnight? (i.e when are supply and demand at both their natural minimums)"
   ]
  },
  {
   "cell_type": "code",
   "execution_count": 136,
   "id": "bfcc9356-5845-4ba6-b7a7-aace5c5d5479",
   "metadata": {},
   "outputs": [
    {
     "data": {
      "text/html": [
       "<div>\n",
       "<style scoped>\n",
       "    .dataframe tbody tr th:only-of-type {\n",
       "        vertical-align: middle;\n",
       "    }\n",
       "\n",
       "    .dataframe tbody tr th {\n",
       "        vertical-align: top;\n",
       "    }\n",
       "\n",
       "    .dataframe thead th {\n",
       "        text-align: right;\n",
       "    }\n",
       "</style>\n",
       "<table border=\"1\" class=\"dataframe\">\n",
       "  <thead>\n",
       "    <tr style=\"text-align: right;\">\n",
       "      <th></th>\n",
       "      <th>Date</th>\n",
       "      <th>min_supply_per_day</th>\n",
       "      <th>min_demand_per_day</th>\n",
       "    </tr>\n",
       "  </thead>\n",
       "  <tbody>\n",
       "    <tr>\n",
       "      <th>0</th>\n",
       "      <td>10-Sep-12</td>\n",
       "      <td>3</td>\n",
       "      <td>0</td>\n",
       "    </tr>\n",
       "    <tr>\n",
       "      <th>1</th>\n",
       "      <td>11-Sep-12</td>\n",
       "      <td>0</td>\n",
       "      <td>0</td>\n",
       "    </tr>\n",
       "    <tr>\n",
       "      <th>2</th>\n",
       "      <td>12-Sep-12</td>\n",
       "      <td>0</td>\n",
       "      <td>0</td>\n",
       "    </tr>\n",
       "    <tr>\n",
       "      <th>3</th>\n",
       "      <td>13-Sep-12</td>\n",
       "      <td>0</td>\n",
       "      <td>0</td>\n",
       "    </tr>\n",
       "    <tr>\n",
       "      <th>4</th>\n",
       "      <td>14-Sep-12</td>\n",
       "      <td>0</td>\n",
       "      <td>1</td>\n",
       "    </tr>\n",
       "    <tr>\n",
       "      <th>5</th>\n",
       "      <td>15-Sep-12</td>\n",
       "      <td>0</td>\n",
       "      <td>0</td>\n",
       "    </tr>\n",
       "    <tr>\n",
       "      <th>6</th>\n",
       "      <td>16-Sep-12</td>\n",
       "      <td>0</td>\n",
       "      <td>0</td>\n",
       "    </tr>\n",
       "    <tr>\n",
       "      <th>7</th>\n",
       "      <td>17-Sep-12</td>\n",
       "      <td>0</td>\n",
       "      <td>0</td>\n",
       "    </tr>\n",
       "    <tr>\n",
       "      <th>8</th>\n",
       "      <td>18-Sep-12</td>\n",
       "      <td>0</td>\n",
       "      <td>0</td>\n",
       "    </tr>\n",
       "    <tr>\n",
       "      <th>9</th>\n",
       "      <td>19-Sep-12</td>\n",
       "      <td>0</td>\n",
       "      <td>0</td>\n",
       "    </tr>\n",
       "    <tr>\n",
       "      <th>10</th>\n",
       "      <td>20-Sep-12</td>\n",
       "      <td>0</td>\n",
       "      <td>0</td>\n",
       "    </tr>\n",
       "    <tr>\n",
       "      <th>11</th>\n",
       "      <td>21-Sep-12</td>\n",
       "      <td>0</td>\n",
       "      <td>0</td>\n",
       "    </tr>\n",
       "    <tr>\n",
       "      <th>12</th>\n",
       "      <td>22-Sep-12</td>\n",
       "      <td>0</td>\n",
       "      <td>0</td>\n",
       "    </tr>\n",
       "    <tr>\n",
       "      <th>13</th>\n",
       "      <td>23-Sep-12</td>\n",
       "      <td>0</td>\n",
       "      <td>0</td>\n",
       "    </tr>\n",
       "    <tr>\n",
       "      <th>14</th>\n",
       "      <td>24-Sep-12</td>\n",
       "      <td>0</td>\n",
       "      <td>0</td>\n",
       "    </tr>\n",
       "  </tbody>\n",
       "</table>\n",
       "</div>"
      ],
      "text/plain": [
       "         Date  min_supply_per_day  min_demand_per_day\n",
       "0   10-Sep-12                   3                   0\n",
       "1   11-Sep-12                   0                   0\n",
       "2   12-Sep-12                   0                   0\n",
       "3   13-Sep-12                   0                   0\n",
       "4   14-Sep-12                   0                   1\n",
       "5   15-Sep-12                   0                   0\n",
       "6   16-Sep-12                   0                   0\n",
       "7   17-Sep-12                   0                   0\n",
       "8   18-Sep-12                   0                   0\n",
       "9   19-Sep-12                   0                   0\n",
       "10  20-Sep-12                   0                   0\n",
       "11  21-Sep-12                   0                   0\n",
       "12  22-Sep-12                   0                   0\n",
       "13  23-Sep-12                   0                   0\n",
       "14  24-Sep-12                   0                   0"
      ]
     },
     "execution_count": 136,
     "metadata": {},
     "output_type": "execute_result"
    }
   ],
   "source": [
    "# find min supply and demand per day\n",
    "df_min_supply_per_day = df.groupby(['Date'])['Unique Drivers'].min().reset_index().rename(columns={'Unique Drivers':'min_supply_per_day'})\n",
    "df_min_demand_per_day = df.groupby(['Date'])['Requests '].min().reset_index().rename(columns={'Requests ':'min_demand_per_day'})\n",
    "\n",
    "# merge demand and supply based on date\n",
    "supply_demand = pd.merge(df_min_supply_per_day, df_min_demand_per_day, on=\"Date\")\n",
    "supply_demand"
   ]
  },
  {
   "cell_type": "code",
   "execution_count": 138,
   "id": "046361ac-d3fa-4453-b31c-8067d07068a3",
   "metadata": {},
   "outputs": [
    {
     "data": {
      "text/html": [
       "<div>\n",
       "<style scoped>\n",
       "    .dataframe tbody tr th:only-of-type {\n",
       "        vertical-align: middle;\n",
       "    }\n",
       "\n",
       "    .dataframe tbody tr th {\n",
       "        vertical-align: top;\n",
       "    }\n",
       "\n",
       "    .dataframe thead th {\n",
       "        text-align: right;\n",
       "    }\n",
       "</style>\n",
       "<table border=\"1\" class=\"dataframe\">\n",
       "  <thead>\n",
       "    <tr style=\"text-align: right;\">\n",
       "      <th></th>\n",
       "      <th>Date</th>\n",
       "      <th>Time (Local)</th>\n",
       "      <th>Eyeballs</th>\n",
       "      <th>Zeroes</th>\n",
       "      <th>Completed Trips</th>\n",
       "      <th>Requests</th>\n",
       "      <th>Unique Drivers</th>\n",
       "      <th>Day</th>\n",
       "      <th>completed_trip_ratio_per_driver</th>\n",
       "      <th>min_supply_per_day</th>\n",
       "      <th>min_demand_per_day</th>\n",
       "    </tr>\n",
       "  </thead>\n",
       "  <tbody>\n",
       "    <tr>\n",
       "      <th>0</th>\n",
       "      <td>10-Sep-12</td>\n",
       "      <td>7</td>\n",
       "      <td>5</td>\n",
       "      <td>0</td>\n",
       "      <td>2</td>\n",
       "      <td>2</td>\n",
       "      <td>9</td>\n",
       "      <td>0</td>\n",
       "      <td>0.222222</td>\n",
       "      <td>3</td>\n",
       "      <td>0</td>\n",
       "    </tr>\n",
       "    <tr>\n",
       "      <th>1</th>\n",
       "      <td>10-Sep-12</td>\n",
       "      <td>8</td>\n",
       "      <td>6</td>\n",
       "      <td>0</td>\n",
       "      <td>2</td>\n",
       "      <td>2</td>\n",
       "      <td>14</td>\n",
       "      <td>0</td>\n",
       "      <td>0.142857</td>\n",
       "      <td>3</td>\n",
       "      <td>0</td>\n",
       "    </tr>\n",
       "    <tr>\n",
       "      <th>2</th>\n",
       "      <td>10-Sep-12</td>\n",
       "      <td>9</td>\n",
       "      <td>8</td>\n",
       "      <td>3</td>\n",
       "      <td>0</td>\n",
       "      <td>0</td>\n",
       "      <td>14</td>\n",
       "      <td>0</td>\n",
       "      <td>0.000000</td>\n",
       "      <td>3</td>\n",
       "      <td>0</td>\n",
       "    </tr>\n",
       "    <tr>\n",
       "      <th>3</th>\n",
       "      <td>10-Sep-12</td>\n",
       "      <td>10</td>\n",
       "      <td>9</td>\n",
       "      <td>2</td>\n",
       "      <td>0</td>\n",
       "      <td>1</td>\n",
       "      <td>14</td>\n",
       "      <td>0</td>\n",
       "      <td>0.000000</td>\n",
       "      <td>3</td>\n",
       "      <td>0</td>\n",
       "    </tr>\n",
       "    <tr>\n",
       "      <th>4</th>\n",
       "      <td>10-Sep-12</td>\n",
       "      <td>11</td>\n",
       "      <td>11</td>\n",
       "      <td>1</td>\n",
       "      <td>4</td>\n",
       "      <td>4</td>\n",
       "      <td>11</td>\n",
       "      <td>0</td>\n",
       "      <td>0.363636</td>\n",
       "      <td>3</td>\n",
       "      <td>0</td>\n",
       "    </tr>\n",
       "    <tr>\n",
       "      <th>...</th>\n",
       "      <td>...</td>\n",
       "      <td>...</td>\n",
       "      <td>...</td>\n",
       "      <td>...</td>\n",
       "      <td>...</td>\n",
       "      <td>...</td>\n",
       "      <td>...</td>\n",
       "      <td>...</td>\n",
       "      <td>...</td>\n",
       "      <td>...</td>\n",
       "      <td>...</td>\n",
       "    </tr>\n",
       "    <tr>\n",
       "      <th>331</th>\n",
       "      <td>24-Sep-12</td>\n",
       "      <td>2</td>\n",
       "      <td>3</td>\n",
       "      <td>3</td>\n",
       "      <td>0</td>\n",
       "      <td>2</td>\n",
       "      <td>0</td>\n",
       "      <td>0</td>\n",
       "      <td>NaN</td>\n",
       "      <td>0</td>\n",
       "      <td>0</td>\n",
       "    </tr>\n",
       "    <tr>\n",
       "      <th>332</th>\n",
       "      <td>24-Sep-12</td>\n",
       "      <td>3</td>\n",
       "      <td>3</td>\n",
       "      <td>3</td>\n",
       "      <td>0</td>\n",
       "      <td>1</td>\n",
       "      <td>0</td>\n",
       "      <td>0</td>\n",
       "      <td>NaN</td>\n",
       "      <td>0</td>\n",
       "      <td>0</td>\n",
       "    </tr>\n",
       "    <tr>\n",
       "      <th>333</th>\n",
       "      <td>24-Sep-12</td>\n",
       "      <td>4</td>\n",
       "      <td>1</td>\n",
       "      <td>1</td>\n",
       "      <td>0</td>\n",
       "      <td>0</td>\n",
       "      <td>0</td>\n",
       "      <td>0</td>\n",
       "      <td>NaN</td>\n",
       "      <td>0</td>\n",
       "      <td>0</td>\n",
       "    </tr>\n",
       "    <tr>\n",
       "      <th>334</th>\n",
       "      <td>24-Sep-12</td>\n",
       "      <td>5</td>\n",
       "      <td>4</td>\n",
       "      <td>2</td>\n",
       "      <td>1</td>\n",
       "      <td>1</td>\n",
       "      <td>3</td>\n",
       "      <td>0</td>\n",
       "      <td>0.333333</td>\n",
       "      <td>0</td>\n",
       "      <td>0</td>\n",
       "    </tr>\n",
       "    <tr>\n",
       "      <th>335</th>\n",
       "      <td>24-Sep-12</td>\n",
       "      <td>6</td>\n",
       "      <td>9</td>\n",
       "      <td>1</td>\n",
       "      <td>2</td>\n",
       "      <td>2</td>\n",
       "      <td>7</td>\n",
       "      <td>0</td>\n",
       "      <td>0.285714</td>\n",
       "      <td>0</td>\n",
       "      <td>0</td>\n",
       "    </tr>\n",
       "  </tbody>\n",
       "</table>\n",
       "<p>336 rows × 11 columns</p>\n",
       "</div>"
      ],
      "text/plain": [
       "          Date  Time (Local)  Eyeballs   Zeroes   Completed Trips   Requests   \\\n",
       "0    10-Sep-12             7          5        0                 2          2   \n",
       "1    10-Sep-12             8          6        0                 2          2   \n",
       "2    10-Sep-12             9          8        3                 0          0   \n",
       "3    10-Sep-12            10          9        2                 0          1   \n",
       "4    10-Sep-12            11         11        1                 4          4   \n",
       "..         ...           ...        ...      ...               ...        ...   \n",
       "331  24-Sep-12             2          3        3                 0          2   \n",
       "332  24-Sep-12             3          3        3                 0          1   \n",
       "333  24-Sep-12             4          1        1                 0          0   \n",
       "334  24-Sep-12             5          4        2                 1          1   \n",
       "335  24-Sep-12             6          9        1                 2          2   \n",
       "\n",
       "     Unique Drivers  Day  completed_trip_ratio_per_driver  min_supply_per_day  \\\n",
       "0                 9    0                         0.222222                   3   \n",
       "1                14    0                         0.142857                   3   \n",
       "2                14    0                         0.000000                   3   \n",
       "3                14    0                         0.000000                   3   \n",
       "4                11    0                         0.363636                   3   \n",
       "..              ...  ...                              ...                 ...   \n",
       "331               0    0                              NaN                   0   \n",
       "332               0    0                              NaN                   0   \n",
       "333               0    0                              NaN                   0   \n",
       "334               3    0                         0.333333                   0   \n",
       "335               7    0                         0.285714                   0   \n",
       "\n",
       "     min_demand_per_day  \n",
       "0                     0  \n",
       "1                     0  \n",
       "2                     0  \n",
       "3                     0  \n",
       "4                     0  \n",
       "..                  ...  \n",
       "331                   0  \n",
       "332                   0  \n",
       "333                   0  \n",
       "334                   0  \n",
       "335                   0  \n",
       "\n",
       "[336 rows x 11 columns]"
      ]
     },
     "execution_count": 138,
     "metadata": {},
     "output_type": "execute_result"
    }
   ],
   "source": [
    "# merge found min values with initial dataset on Date\n",
    "dataset_w_min_supply_demand = pd.merge(df, supply_demand, on=\"Date\")\n",
    "dataset_w_min_supply_demand"
   ]
  },
  {
   "cell_type": "code",
   "execution_count": 140,
   "id": "6112e66f-0df0-4059-a874-cc4402cfe82a",
   "metadata": {},
   "outputs": [
    {
     "data": {
      "text/plain": [
       "0    4\n",
       "Name: Time (Local), dtype: int64"
      ]
     },
     "execution_count": 140,
     "metadata": {},
     "output_type": "execute_result"
    }
   ],
   "source": [
    "# check the exact matches with natural minimums\n",
    "min_point = dataset_w_min_supply_demand[(dataset_w_min_supply_demand.min_supply_per_day == dataset_w_min_supply_demand['Unique Drivers']) & \n",
    "                           (dataset_w_min_supply_demand.min_demand_per_day == dataset_w_min_supply_demand['Requests '])]['Time (Local)'].mode()\n",
    "min_point"
   ]
  },
  {
   "cell_type": "code",
   "execution_count": 142,
   "id": "e5cfc9c6-0ffd-4903-9c78-516eba191e5c",
   "metadata": {},
   "outputs": [
    {
     "data": {
      "text/plain": [
       "4"
      ]
     },
     "execution_count": 142,
     "metadata": {},
     "output_type": "execute_result"
    }
   ],
   "source": [
    "# minimum hour is 4 am\n",
    "min_point[0]"
   ]
  },
  {
   "cell_type": "code",
   "execution_count": 144,
   "id": "459e798d-a93e-4b11-a2ac-c10952e89d9e",
   "metadata": {},
   "outputs": [
    {
     "data": {
      "image/png": "[encoded data removed]",
      "text/plain": [
       "<Figure size 1200x800 with 1 Axes>"
      ]
     },
     "metadata": {},
     "output_type": "display_data"
    }
   ],
   "source": [
    "# plot and annotate the minimum hour\n",
    "df_agg_time = df.groupby('Time (Local)').sum().reset_index()\n",
    "min_point_value = df_agg_time['Requests '][min_point[0]]\n",
    "plt.figure(figsize=(12,8))\n",
    "fig = sns.lineplot(data=df_agg_time[['Requests ', 'Unique Drivers']], markers=True, dashes=False)\n",
    "fig.set_xticks(df_agg_time['Time (Local)'])\n",
    "plt.annotate('minimum supply/demand', xy=(min_point[0], min_point_value), color='r', fontsize=16)\n",
    "plt.show()"
   ]
  },
  {
   "cell_type": "markdown",
   "id": "8b6f35d2-d403-4985-a7d6-d7be49333c6c",
   "metadata": {},
   "source": [
    "Thank you ! "
   ]
  },
  {
   "cell_type": "code",
   "execution_count": null,
   "id": "cc896852-a0de-4bd9-92f2-a4b5d14e3808",
   "metadata": {},
   "outputs": [],
   "source": []
  }
 ],
 "metadata": {
  "kernelspec": {
   "display_name": "Python [conda env:base] *",
   "language": "python",
   "name": "conda-base-py"
  },
  "language_info": {
   "codemirror_mode": {
    "name": "ipython",
    "version": 3
   },
   "file_extension": ".py",
   "mimetype": "text/x-python",
   "name": "python",
   "nbconvert_exporter": "python",
   "pygments_lexer": "ipython3",
   "version": "3.12.7"
  }
 },
 "nbformat": 4,
 "nbformat_minor": 5
}
